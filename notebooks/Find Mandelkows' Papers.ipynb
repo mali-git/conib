{
 "cells": [
  {
   "cell_type": "markdown",
   "metadata": {},
   "source": [
    "This notebook identifies papers in the `hbp_knowledge` repository that have been authored by the Mandelkows."
   ]
  },
  {
   "cell_type": "code",
   "execution_count": 1,
   "metadata": {},
   "outputs": [],
   "source": [
    "from hbp_knowledge import repository\n",
    "from pybel.manager.citation_utils import get_pubmed_citation_response"
   ]
  },
  {
   "cell_type": "code",
   "execution_count": 2,
   "metadata": {},
   "outputs": [],
   "source": [
    "pmids = sorted({\n",
    "    pmid \n",
    "    for database, pmid in repository._iterate_citations()\n",
    "    if database == 'PubMed'\n",
    "})"
   ]
  },
  {
   "cell_type": "code",
   "execution_count": 3,
   "metadata": {},
   "outputs": [],
   "source": [
    "res = get_pubmed_citation_response(pmids)"
   ]
  },
  {
   "cell_type": "code",
   "execution_count": 5,
   "metadata": {},
   "outputs": [
    {
     "name": "stdout",
     "output_type": "stream",
     "text": [
      "2013 Jun 13 Progress and developments in tau aggregation inhibitors for Alzheimer disease.\n",
      "2016 Oct 11 Adenosine A1 receptor antagonist rolofylline alleviates axonopathy caused by human Tau ΔK280.\n",
      "2017 Dec 4 Anti-aggregant tau mutant promotes neurogenesis.\n",
      "2017 Dec 7 Multivalent cross-linking of actin filaments and microtubules through the microtubule-associated protein Tau.\n"
     ]
    }
   ],
   "source": [
    "has_mandelkow_pmids = set()\n",
    "\n",
    "for pmid in pmids:\n",
    "    cinf = res['result'].get(pmid)\n",
    "    if cinf is None:\n",
    "        print(f'Missing {pmid}')\n",
    "        continue\n",
    "    \n",
    "    has_mandelkow = any(\n",
    "        'mandelkow' in author['name'].lower()\n",
    "        for author in cinf['authors']\n",
    "    )\n",
    "    \n",
    "    if has_mandelkow:\n",
    "        print(cinf['pubdate'], cinf['title'])"
   ]
  }
 ],
 "metadata": {
  "kernelspec": {
   "display_name": "Python 3",
   "language": "python",
   "name": "python3"
  },
  "language_info": {
   "codemirror_mode": {
    "name": "ipython",
    "version": 3
   },
   "file_extension": ".py",
   "mimetype": "text/x-python",
   "name": "python",
   "nbconvert_exporter": "python",
   "pygments_lexer": "ipython3",
   "version": "3.7.0"
  }
 },
 "nbformat": 4,
 "nbformat_minor": 2
}
